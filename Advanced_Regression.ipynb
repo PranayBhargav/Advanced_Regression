{
 "cells": [
  {
   "cell_type": "code",
   "execution_count": 3322,
   "metadata": {},
   "outputs": [],
   "source": [
    "#supress warnings\n",
    "\n",
    "import warnings\n",
    "warnings.filterwarnings('ignore')"
   ]
  },
  {
   "cell_type": "code",
   "execution_count": 3323,
   "metadata": {},
   "outputs": [],
   "source": [
    "#importing libraries\n",
    "import numpy as np\n",
    "import pandas as pd\n",
    "import seaborn as sns\n",
    "import matplotlib.pyplot as plt"
   ]
  },
  {
   "cell_type": "code",
   "execution_count": 3324,
   "metadata": {},
   "outputs": [],
   "source": [
    "#reading the dataframe\n",
    "df = pd.read_csv(\"train.csv\")"
   ]
  },
  {
   "cell_type": "code",
   "execution_count": 3325,
   "metadata": {},
   "outputs": [
    {
     "name": "stdout",
     "output_type": "stream",
     "text": [
      "<class 'pandas.core.frame.DataFrame'>\n",
      "RangeIndex: 1460 entries, 0 to 1459\n",
      "Data columns (total 81 columns):\n",
      " #   Column         Non-Null Count  Dtype  \n",
      "---  ------         --------------  -----  \n",
      " 0   Id             1460 non-null   int64  \n",
      " 1   MSSubClass     1460 non-null   int64  \n",
      " 2   MSZoning       1460 non-null   object \n",
      " 3   LotFrontage    1201 non-null   float64\n",
      " 4   LotArea        1460 non-null   int64  \n",
      " 5   Street         1460 non-null   object \n",
      " 6   Alley          91 non-null     object \n",
      " 7   LotShape       1460 non-null   object \n",
      " 8   LandContour    1460 non-null   object \n",
      " 9   Utilities      1460 non-null   object \n",
      " 10  LotConfig      1460 non-null   object \n",
      " 11  LandSlope      1460 non-null   object \n",
      " 12  Neighborhood   1460 non-null   object \n",
      " 13  Condition1     1460 non-null   object \n",
      " 14  Condition2     1460 non-null   object \n",
      " 15  BldgType       1460 non-null   object \n",
      " 16  HouseStyle     1460 non-null   object \n",
      " 17  OverallQual    1460 non-null   int64  \n",
      " 18  OverallCond    1460 non-null   int64  \n",
      " 19  YearBuilt      1460 non-null   int64  \n",
      " 20  YearRemodAdd   1460 non-null   int64  \n",
      " 21  RoofStyle      1460 non-null   object \n",
      " 22  RoofMatl       1460 non-null   object \n",
      " 23  Exterior1st    1460 non-null   object \n",
      " 24  Exterior2nd    1460 non-null   object \n",
      " 25  MasVnrType     1452 non-null   object \n",
      " 26  MasVnrArea     1452 non-null   float64\n",
      " 27  ExterQual      1460 non-null   object \n",
      " 28  ExterCond      1460 non-null   object \n",
      " 29  Foundation     1460 non-null   object \n",
      " 30  BsmtQual       1423 non-null   object \n",
      " 31  BsmtCond       1423 non-null   object \n",
      " 32  BsmtExposure   1422 non-null   object \n",
      " 33  BsmtFinType1   1423 non-null   object \n",
      " 34  BsmtFinSF1     1460 non-null   int64  \n",
      " 35  BsmtFinType2   1422 non-null   object \n",
      " 36  BsmtFinSF2     1460 non-null   int64  \n",
      " 37  BsmtUnfSF      1460 non-null   int64  \n",
      " 38  TotalBsmtSF    1460 non-null   int64  \n",
      " 39  Heating        1460 non-null   object \n",
      " 40  HeatingQC      1460 non-null   object \n",
      " 41  CentralAir     1460 non-null   object \n",
      " 42  Electrical     1459 non-null   object \n",
      " 43  1stFlrSF       1460 non-null   int64  \n",
      " 44  2ndFlrSF       1460 non-null   int64  \n",
      " 45  LowQualFinSF   1460 non-null   int64  \n",
      " 46  GrLivArea      1460 non-null   int64  \n",
      " 47  BsmtFullBath   1460 non-null   int64  \n",
      " 48  BsmtHalfBath   1460 non-null   int64  \n",
      " 49  FullBath       1460 non-null   int64  \n",
      " 50  HalfBath       1460 non-null   int64  \n",
      " 51  BedroomAbvGr   1460 non-null   int64  \n",
      " 52  KitchenAbvGr   1460 non-null   int64  \n",
      " 53  KitchenQual    1460 non-null   object \n",
      " 54  TotRmsAbvGrd   1460 non-null   int64  \n",
      " 55  Functional     1460 non-null   object \n",
      " 56  Fireplaces     1460 non-null   int64  \n",
      " 57  FireplaceQu    770 non-null    object \n",
      " 58  GarageType     1379 non-null   object \n",
      " 59  GarageYrBlt    1379 non-null   float64\n",
      " 60  GarageFinish   1379 non-null   object \n",
      " 61  GarageCars     1460 non-null   int64  \n",
      " 62  GarageArea     1460 non-null   int64  \n",
      " 63  GarageQual     1379 non-null   object \n",
      " 64  GarageCond     1379 non-null   object \n",
      " 65  PavedDrive     1460 non-null   object \n",
      " 66  WoodDeckSF     1460 non-null   int64  \n",
      " 67  OpenPorchSF    1460 non-null   int64  \n",
      " 68  EnclosedPorch  1460 non-null   int64  \n",
      " 69  3SsnPorch      1460 non-null   int64  \n",
      " 70  ScreenPorch    1460 non-null   int64  \n",
      " 71  PoolArea       1460 non-null   int64  \n",
      " 72  PoolQC         7 non-null      object \n",
      " 73  Fence          281 non-null    object \n",
      " 74  MiscFeature    54 non-null     object \n",
      " 75  MiscVal        1460 non-null   int64  \n",
      " 76  MoSold         1460 non-null   int64  \n",
      " 77  YrSold         1460 non-null   int64  \n",
      " 78  SaleType       1460 non-null   object \n",
      " 79  SaleCondition  1460 non-null   object \n",
      " 80  SalePrice      1460 non-null   int64  \n",
      "dtypes: float64(3), int64(35), object(43)\n",
      "memory usage: 924.0+ KB\n"
     ]
    }
   ],
   "source": [
    "df.info()"
   ]
  },
  {
   "cell_type": "markdown",
   "metadata": {},
   "source": [
    "# Data Cleaning"
   ]
  },
  {
   "cell_type": "markdown",
   "metadata": {},
   "source": [
    "using the Data Dictionary we will evaluate the column data type and if there is any missmatch then we will correct all of them"
   ]
  },
  {
   "cell_type": "code",
   "execution_count": 3326,
   "metadata": {},
   "outputs": [
    {
     "name": "stdout",
     "output_type": "stream",
     "text": [
      "columns with data type INT 64 =  ['Id', 'MSSubClass', 'LotArea', 'OverallQual', 'OverallCond', 'YearBuilt', 'YearRemodAdd', 'BsmtFinSF1', 'BsmtFinSF2', 'BsmtUnfSF', 'TotalBsmtSF', '1stFlrSF', '2ndFlrSF', 'LowQualFinSF', 'GrLivArea', 'BsmtFullBath', 'BsmtHalfBath', 'FullBath', 'HalfBath', 'BedroomAbvGr', 'KitchenAbvGr', 'TotRmsAbvGrd', 'Fireplaces', 'GarageCars', 'GarageArea', 'WoodDeckSF', 'OpenPorchSF', 'EnclosedPorch', '3SsnPorch', 'ScreenPorch', 'PoolArea', 'MiscVal', 'MoSold', 'YrSold', 'SalePrice']\n",
      "\n",
      "\n",
      "columns with data type INT 64 =  ['LotFrontage', 'MasVnrArea', 'GarageYrBlt']\n"
     ]
    }
   ],
   "source": [
    "#selecting all the columns of int64 type\n",
    "int64_columns = list(df.select_dtypes(include=['int64']).columns)\n",
    "print(\"columns with data type INT 64 = \" , int64_columns)\n",
    "print('\\n')\n",
    "#selecting all the columns of float64 type\n",
    "float64_columns = list(df.select_dtypes(include=['float64']).columns)\n",
    "print(\"columns with data type INT 64 = \" , float64_columns)"
   ]
  },
  {
   "cell_type": "markdown",
   "metadata": {},
   "source": [
    "after comparing the int, float data types it is found out that the columns `MSSubClass` , `OverallQual` , `OverallCond` \n",
    "are of type int but they are having a categorical data representation in the data dictionary. \n",
    "so mapping them to their string datatype so that creating the dummies is easy."
   ]
  },
  {
   "cell_type": "code",
   "execution_count": 3327,
   "metadata": {},
   "outputs": [],
   "source": [
    "#changinf the datatype of the columns\n",
    "df = df.astype({'MSSubClass' : 'str' , 'OverallQual' : 'str' , 'OverallCond' : 'str' , 'MoSold' : 'str'})"
   ]
  },
  {
   "cell_type": "code",
   "execution_count": 3328,
   "metadata": {},
   "outputs": [
    {
     "name": "stdout",
     "output_type": "stream",
     "text": [
      "              percentage_missing\n",
      "LotFrontage                17.74\n",
      "Alley                      93.77\n",
      "MasVnrType                  0.55\n",
      "MasVnrArea                  0.55\n",
      "BsmtQual                    2.53\n",
      "BsmtCond                    2.53\n",
      "BsmtExposure                2.60\n",
      "BsmtFinType1                2.53\n",
      "BsmtFinType2                2.60\n",
      "Electrical                  0.07\n",
      "FireplaceQu                47.26\n",
      "GarageType                  5.55\n",
      "GarageYrBlt                 5.55\n",
      "GarageFinish                5.55\n",
      "GarageQual                  5.55\n",
      "GarageCond                  5.55\n",
      "PoolQC                     99.52\n",
      "Fence                      80.75\n",
      "MiscFeature                96.30\n",
      "['LotFrontage', 'Alley', 'MasVnrType', 'MasVnrArea', 'BsmtQual', 'BsmtCond', 'BsmtExposure', 'BsmtFinType1', 'BsmtFinType2', 'Electrical', 'FireplaceQu', 'GarageType', 'GarageYrBlt', 'GarageFinish', 'GarageQual', 'GarageCond', 'PoolQC', 'Fence', 'MiscFeature']\n"
     ]
    }
   ],
   "source": [
    "#getting the percentage of missing values in each column\n",
    "dummy_df = pd.DataFrame(round(100*df.isnull().sum()/len(df.index),2))\n",
    "dummy_df = dummy_df.rename(columns = {0:\"percentage_missing\"} )\n",
    "\n",
    "#extracting the column names with non zero missing values\n",
    "dummy_df = dummy_df[dummy_df.percentage_missing != 0]\n",
    "print(dummy_df)\n",
    "\n",
    "#storing the columns with non zero missing values in a list\n",
    "non_zero_missing_column_list = list(dummy_df.index)\n",
    "print(non_zero_missing_column_list)"
   ]
  },
  {
   "cell_type": "code",
   "execution_count": 3329,
   "metadata": {},
   "outputs": [
    {
     "name": "stdout",
     "output_type": "stream",
     "text": [
      "SBrkr    1334\n",
      "FuseA      94\n",
      "FuseF      27\n",
      "FuseP       3\n",
      "Mix         1\n",
      "Name: Electrical, dtype: int64\n"
     ]
    }
   ],
   "source": [
    "#imputing the columns LotFrontage \n",
    "df.LotFrontage = df.LotFrontage.fillna(df.LotFrontage.mean())\n",
    "\n",
    "#imputing the column Electrical\n",
    "print(df.Electrical.value_counts())\n",
    "df.Electrical  = df.Electrical.fillna('SBrkr')"
   ]
  },
  {
   "cell_type": "code",
   "execution_count": 3330,
   "metadata": {
    "scrolled": true
   },
   "outputs": [
    {
     "name": "stdout",
     "output_type": "stream",
     "text": [
      "None       864\n",
      "BrkFace    445\n",
      "Stone      128\n",
      "BrkCmn      15\n",
      "Name: MasVnrType, dtype: int64\n"
     ]
    }
   ],
   "source": [
    "#imputing the columns MasVnrType\n",
    "print(df.MasVnrType.value_counts())\n",
    "df.MasVnrType = df.MasVnrType.fillna('None')"
   ]
  },
  {
   "cell_type": "markdown",
   "metadata": {},
   "source": [
    "from the data dictionary we know that the colums MasVnrType and MasVnrArea are related.As we imputed the column MasVnrType with 'None'. so the column MasVnrArea with the missing values should be imputed with 0."
   ]
  },
  {
   "cell_type": "code",
   "execution_count": 3331,
   "metadata": {},
   "outputs": [],
   "source": [
    "#imputing the column MasVnrArea\n",
    "df.MasVnrArea = df.MasVnrArea.fillna(0)"
   ]
  },
  {
   "cell_type": "code",
   "execution_count": 3332,
   "metadata": {},
   "outputs": [],
   "source": [
    "#imputing the columns GarageArea and GarageCars with 0 as these are not available for the houses with no garrage\n",
    "df.GarageArea = df.GarageArea.fillna(0)\n",
    "df.GarageCars = df.GarageCars.fillna(0)"
   ]
  },
  {
   "cell_type": "code",
   "execution_count": 3333,
   "metadata": {},
   "outputs": [],
   "source": [
    "#removinng the rows where the column GarageYrBlt is not available\n",
    "df = df.loc[~df.GarageYrBlt.isnull()]"
   ]
  },
  {
   "cell_type": "markdown",
   "metadata": {},
   "source": [
    "i have removed the rows with the GarageYrBlt because i cannot impute this column\n",
    "if there is no garrage then the value for GarageYrBlt is not available, if i impute with mean, mode, meidan or even with zero then i will be inducing error in the Data. so i choose to remove this"
   ]
  },
  {
   "cell_type": "markdown",
   "metadata": {},
   "source": [
    "Eventhough we can see that there are colums with missing values, we cannot simply impute them or remove the colums  because the missing values have some meaning, the columns filled mith NA have a meaning, this can be found in the data dictionary "
   ]
  },
  {
   "cell_type": "markdown",
   "metadata": {},
   "source": [
    "# Data Preperation\n",
    "\n",
    "I am creating the dummy variables for all the columns of type object"
   ]
  },
  {
   "cell_type": "code",
   "execution_count": 3334,
   "metadata": {},
   "outputs": [],
   "source": [
    "#selecting all the columns of object type\n",
    "object_columns = list(df.select_dtypes(include=['object']).columns)"
   ]
  },
  {
   "cell_type": "code",
   "execution_count": 3335,
   "metadata": {},
   "outputs": [
    {
     "name": "stdout",
     "output_type": "stream",
     "text": [
      "['MSSubClass', 'MSZoning', 'Street', 'Alley', 'LotShape', 'LandContour', 'Utilities', 'LotConfig', 'LandSlope', 'Neighborhood', 'Condition1', 'Condition2', 'BldgType', 'HouseStyle', 'OverallQual', 'OverallCond', 'RoofStyle', 'RoofMatl', 'Exterior1st', 'Exterior2nd', 'MasVnrType', 'ExterQual', 'ExterCond', 'Foundation', 'BsmtQual', 'BsmtCond', 'BsmtExposure', 'BsmtFinType1', 'BsmtFinType2', 'Heating', 'HeatingQC', 'CentralAir', 'Electrical', 'KitchenQual', 'Functional', 'FireplaceQu', 'GarageType', 'GarageFinish', 'GarageQual', 'GarageCond', 'PavedDrive', 'PoolQC', 'Fence', 'MiscFeature', 'MoSold', 'SaleType', 'SaleCondition']\n"
     ]
    },
    {
     "data": {
      "text/plain": [
       "(1379, 81)"
      ]
     },
     "execution_count": 3335,
     "metadata": {},
     "output_type": "execute_result"
    }
   ],
   "source": [
    "print(object_columns)\n",
    "df.shape"
   ]
  },
  {
   "cell_type": "code",
   "execution_count": 3336,
   "metadata": {},
   "outputs": [],
   "source": [
    "#creating dummies\n",
    "status = pd.get_dummies(df[object_columns])\n",
    "\n",
    "df = pd.concat([df, status], axis = 1)"
   ]
  },
  {
   "cell_type": "code",
   "execution_count": 3337,
   "metadata": {},
   "outputs": [],
   "source": [
    "#droping the original columns for which dummies are created from the DF \n",
    "df = df.drop(columns =object_columns)"
   ]
  },
  {
   "cell_type": "code",
   "execution_count": 3338,
   "metadata": {},
   "outputs": [
    {
     "name": "stdout",
     "output_type": "stream",
     "text": [
      "['Id' 'LotFrontage' 'LotArea' 'YearBuilt' 'YearRemodAdd' 'MasVnrArea'\n",
      " 'BsmtFinSF1' 'BsmtFinSF2' 'BsmtUnfSF' 'TotalBsmtSF' '1stFlrSF' '2ndFlrSF'\n",
      " 'LowQualFinSF' 'GrLivArea' 'BsmtFullBath' 'BsmtHalfBath' 'FullBath'\n",
      " 'HalfBath' 'BedroomAbvGr' 'KitchenAbvGr' 'TotRmsAbvGrd' 'Fireplaces'\n",
      " 'GarageYrBlt' 'GarageCars' 'GarageArea' 'WoodDeckSF' 'OpenPorchSF'\n",
      " 'EnclosedPorch' '3SsnPorch' 'ScreenPorch' 'PoolArea' 'MiscVal' 'YrSold'\n",
      " 'SalePrice' 'MSSubClass_120' 'MSSubClass_160' 'MSSubClass_180'\n",
      " 'MSSubClass_190' 'MSSubClass_20' 'MSSubClass_30' 'MSSubClass_40'\n",
      " 'MSSubClass_45' 'MSSubClass_50' 'MSSubClass_60' 'MSSubClass_70'\n",
      " 'MSSubClass_75' 'MSSubClass_80' 'MSSubClass_85' 'MSSubClass_90'\n",
      " 'MSZoning_C (all)' 'MSZoning_FV' 'MSZoning_RH' 'MSZoning_RL'\n",
      " 'MSZoning_RM' 'Street_Grvl' 'Street_Pave' 'Alley_Grvl' 'Alley_Pave'\n",
      " 'LotShape_IR1' 'LotShape_IR2' 'LotShape_IR3' 'LotShape_Reg'\n",
      " 'LandContour_Bnk' 'LandContour_HLS' 'LandContour_Low' 'LandContour_Lvl'\n",
      " 'Utilities_AllPub' 'Utilities_NoSeWa' 'LotConfig_Corner'\n",
      " 'LotConfig_CulDSac' 'LotConfig_FR2' 'LotConfig_FR3' 'LotConfig_Inside'\n",
      " 'LandSlope_Gtl' 'LandSlope_Mod' 'LandSlope_Sev' 'Neighborhood_Blmngtn'\n",
      " 'Neighborhood_Blueste' 'Neighborhood_BrDale' 'Neighborhood_BrkSide'\n",
      " 'Neighborhood_ClearCr' 'Neighborhood_CollgCr' 'Neighborhood_Crawfor'\n",
      " 'Neighborhood_Edwards' 'Neighborhood_Gilbert' 'Neighborhood_IDOTRR'\n",
      " 'Neighborhood_MeadowV' 'Neighborhood_Mitchel' 'Neighborhood_NAmes'\n",
      " 'Neighborhood_NPkVill' 'Neighborhood_NWAmes' 'Neighborhood_NoRidge'\n",
      " 'Neighborhood_NridgHt' 'Neighborhood_OldTown' 'Neighborhood_SWISU'\n",
      " 'Neighborhood_Sawyer' 'Neighborhood_SawyerW' 'Neighborhood_Somerst'\n",
      " 'Neighborhood_StoneBr' 'Neighborhood_Timber' 'Neighborhood_Veenker'\n",
      " 'Condition1_Artery' 'Condition1_Feedr' 'Condition1_Norm'\n",
      " 'Condition1_PosA' 'Condition1_PosN' 'Condition1_RRAe' 'Condition1_RRAn'\n",
      " 'Condition1_RRNe' 'Condition1_RRNn' 'Condition2_Artery'\n",
      " 'Condition2_Feedr' 'Condition2_Norm' 'Condition2_PosA' 'Condition2_PosN'\n",
      " 'Condition2_RRAe' 'Condition2_RRAn' 'Condition2_RRNn' 'BldgType_1Fam'\n",
      " 'BldgType_2fmCon' 'BldgType_Duplex' 'BldgType_Twnhs' 'BldgType_TwnhsE'\n",
      " 'HouseStyle_1.5Fin' 'HouseStyle_1.5Unf' 'HouseStyle_1Story'\n",
      " 'HouseStyle_2.5Fin' 'HouseStyle_2.5Unf' 'HouseStyle_2Story'\n",
      " 'HouseStyle_SFoyer' 'HouseStyle_SLvl' 'OverallQual_10' 'OverallQual_2'\n",
      " 'OverallQual_3' 'OverallQual_4' 'OverallQual_5' 'OverallQual_6'\n",
      " 'OverallQual_7' 'OverallQual_8' 'OverallQual_9' 'OverallCond_2'\n",
      " 'OverallCond_3' 'OverallCond_4' 'OverallCond_5' 'OverallCond_6'\n",
      " 'OverallCond_7' 'OverallCond_8' 'OverallCond_9' 'RoofStyle_Flat'\n",
      " 'RoofStyle_Gable' 'RoofStyle_Gambrel' 'RoofStyle_Hip' 'RoofStyle_Mansard'\n",
      " 'RoofStyle_Shed' 'RoofMatl_ClyTile' 'RoofMatl_CompShg' 'RoofMatl_Membran'\n",
      " 'RoofMatl_Metal' 'RoofMatl_Roll' 'RoofMatl_Tar&Grv' 'RoofMatl_WdShake'\n",
      " 'RoofMatl_WdShngl' 'Exterior1st_AsbShng' 'Exterior1st_BrkComm'\n",
      " 'Exterior1st_BrkFace' 'Exterior1st_CBlock' 'Exterior1st_CemntBd'\n",
      " 'Exterior1st_HdBoard' 'Exterior1st_ImStucc' 'Exterior1st_MetalSd'\n",
      " 'Exterior1st_Plywood' 'Exterior1st_Stone' 'Exterior1st_Stucco'\n",
      " 'Exterior1st_VinylSd' 'Exterior1st_Wd Sdng' 'Exterior1st_WdShing'\n",
      " 'Exterior2nd_AsbShng' 'Exterior2nd_AsphShn' 'Exterior2nd_Brk Cmn'\n",
      " 'Exterior2nd_BrkFace' 'Exterior2nd_CBlock' 'Exterior2nd_CmentBd'\n",
      " 'Exterior2nd_HdBoard' 'Exterior2nd_ImStucc' 'Exterior2nd_MetalSd'\n",
      " 'Exterior2nd_Other' 'Exterior2nd_Plywood' 'Exterior2nd_Stone'\n",
      " 'Exterior2nd_Stucco' 'Exterior2nd_VinylSd' 'Exterior2nd_Wd Sdng'\n",
      " 'Exterior2nd_Wd Shng' 'MasVnrType_BrkCmn' 'MasVnrType_BrkFace'\n",
      " 'MasVnrType_None' 'MasVnrType_Stone' 'ExterQual_Ex' 'ExterQual_Fa'\n",
      " 'ExterQual_Gd' 'ExterQual_TA' 'ExterCond_Ex' 'ExterCond_Fa'\n",
      " 'ExterCond_Gd' 'ExterCond_TA' 'Foundation_BrkTil' 'Foundation_CBlock'\n",
      " 'Foundation_PConc' 'Foundation_Slab' 'Foundation_Stone' 'Foundation_Wood'\n",
      " 'BsmtQual_Ex' 'BsmtQual_Fa' 'BsmtQual_Gd' 'BsmtQual_TA' 'BsmtCond_Fa'\n",
      " 'BsmtCond_Gd' 'BsmtCond_Po' 'BsmtCond_TA' 'BsmtExposure_Av'\n",
      " 'BsmtExposure_Gd' 'BsmtExposure_Mn' 'BsmtExposure_No' 'BsmtFinType1_ALQ'\n",
      " 'BsmtFinType1_BLQ' 'BsmtFinType1_GLQ' 'BsmtFinType1_LwQ'\n",
      " 'BsmtFinType1_Rec' 'BsmtFinType1_Unf' 'BsmtFinType2_ALQ'\n",
      " 'BsmtFinType2_BLQ' 'BsmtFinType2_GLQ' 'BsmtFinType2_LwQ'\n",
      " 'BsmtFinType2_Rec' 'BsmtFinType2_Unf' 'Heating_Floor' 'Heating_GasA'\n",
      " 'Heating_GasW' 'Heating_Grav' 'Heating_OthW' 'Heating_Wall'\n",
      " 'HeatingQC_Ex' 'HeatingQC_Fa' 'HeatingQC_Gd' 'HeatingQC_Po'\n",
      " 'HeatingQC_TA' 'CentralAir_N' 'CentralAir_Y' 'Electrical_FuseA'\n",
      " 'Electrical_FuseF' 'Electrical_FuseP' 'Electrical_Mix' 'Electrical_SBrkr'\n",
      " 'KitchenQual_Ex' 'KitchenQual_Fa' 'KitchenQual_Gd' 'KitchenQual_TA'\n",
      " 'Functional_Maj1' 'Functional_Maj2' 'Functional_Min1' 'Functional_Min2'\n",
      " 'Functional_Mod' 'Functional_Sev' 'Functional_Typ' 'FireplaceQu_Ex'\n",
      " 'FireplaceQu_Fa' 'FireplaceQu_Gd' 'FireplaceQu_Po' 'FireplaceQu_TA'\n",
      " 'GarageType_2Types' 'GarageType_Attchd' 'GarageType_Basment'\n",
      " 'GarageType_BuiltIn' 'GarageType_CarPort' 'GarageType_Detchd'\n",
      " 'GarageFinish_Fin' 'GarageFinish_RFn' 'GarageFinish_Unf' 'GarageQual_Ex'\n",
      " 'GarageQual_Fa' 'GarageQual_Gd' 'GarageQual_Po' 'GarageQual_TA'\n",
      " 'GarageCond_Ex' 'GarageCond_Fa' 'GarageCond_Gd' 'GarageCond_Po'\n",
      " 'GarageCond_TA' 'PavedDrive_N' 'PavedDrive_P' 'PavedDrive_Y' 'PoolQC_Ex'\n",
      " 'PoolQC_Fa' 'PoolQC_Gd' 'Fence_GdPrv' 'Fence_GdWo' 'Fence_MnPrv'\n",
      " 'Fence_MnWw' 'MiscFeature_Gar2' 'MiscFeature_Othr' 'MiscFeature_Shed'\n",
      " 'MiscFeature_TenC' 'MoSold_1' 'MoSold_10' 'MoSold_11' 'MoSold_12'\n",
      " 'MoSold_2' 'MoSold_3' 'MoSold_4' 'MoSold_5' 'MoSold_6' 'MoSold_7'\n",
      " 'MoSold_8' 'MoSold_9' 'SaleType_COD' 'SaleType_CWD' 'SaleType_Con'\n",
      " 'SaleType_ConLD' 'SaleType_ConLI' 'SaleType_ConLw' 'SaleType_New'\n",
      " 'SaleType_Oth' 'SaleType_WD' 'SaleCondition_Abnorml'\n",
      " 'SaleCondition_AdjLand' 'SaleCondition_Alloca' 'SaleCondition_Family'\n",
      " 'SaleCondition_Normal' 'SaleCondition_Partial']\n"
     ]
    }
   ],
   "source": [
    "print(df.columns.values)"
   ]
  },
  {
   "cell_type": "markdown",
   "metadata": {},
   "source": [
    "after doing all the cleaning and preporatory steps in data analysis, again checking for the missing values in any column"
   ]
  },
  {
   "cell_type": "code",
   "execution_count": 3339,
   "metadata": {},
   "outputs": [
    {
     "name": "stdout",
     "output_type": "stream",
     "text": [
      "Empty DataFrame\n",
      "Columns: [percentage_missing]\n",
      "Index: []\n"
     ]
    }
   ],
   "source": [
    "#getting the percentage of missing values in each column\n",
    "dummy_df = pd.DataFrame(round(100*df.isnull().sum()/len(df.index),2))\n",
    "dummy_df = dummy_df.rename(columns = {0:\"percentage_missing\"} )\n",
    "\n",
    "#extracting the column names with non zero missing values\n",
    "dummy_df = dummy_df[dummy_df.percentage_missing != 0]\n",
    "print(dummy_df)"
   ]
  },
  {
   "cell_type": "markdown",
   "metadata": {},
   "source": [
    "since there are no missing values, the Data frame is clean"
   ]
  },
  {
   "cell_type": "markdown",
   "metadata": {},
   "source": [
    "### Feature Engineering"
   ]
  },
  {
   "cell_type": "markdown",
   "metadata": {},
   "source": [
    "from the data dictionary it is clear that the columns `YearBuilt` and `YearRemodAdd` carry the same information.\n",
    "the column `YearRemodAdd` can compeltely explain the column `YearBuilt`. so i decide to drop the column `YearBuilt`"
   ]
  },
  {
   "cell_type": "code",
   "execution_count": 3340,
   "metadata": {},
   "outputs": [],
   "source": [
    "#droping the column YearBuilt\n",
    "df.drop('YearBuilt' , axis = 'columns' , inplace = True)"
   ]
  },
  {
   "cell_type": "markdown",
   "metadata": {},
   "source": [
    "new feature called age of house which is the difference between yearsold and YearRemodAdd this can give more information as it is a derived feature"
   ]
  },
  {
   "cell_type": "code",
   "execution_count": 3341,
   "metadata": {},
   "outputs": [],
   "source": [
    "#adding a new feature called age of house which is the difference between yearsold and YearRemodAdd\n",
    "df['age_of_house'] = df['YearRemodAdd'] - df['YrSold']"
   ]
  },
  {
   "cell_type": "code",
   "execution_count": 3342,
   "metadata": {},
   "outputs": [],
   "source": [
    "#removing the columns YearRemodAdd and YrSold\n",
    "df.drop('YearRemodAdd' , axis = 'columns' , inplace = True)\n",
    "df.drop('YrSold' , axis = 'columns' , inplace = True)"
   ]
  },
  {
   "cell_type": "markdown",
   "metadata": {},
   "source": [
    "## Splitting the Data into Training and Testing Sets and building the model\n",
    "\n"
   ]
  },
  {
   "cell_type": "code",
   "execution_count": 3343,
   "metadata": {},
   "outputs": [],
   "source": [
    "from sklearn.model_selection import train_test_split\n",
    "\n",
    "# We specify this so that the train and test data set always have the same rows, respectively\n",
    "np.random.seed(0)\n",
    "\n",
    "df_train , df_test = train_test_split(df, train_size = 0.7 , test_size = 0.3 , random_state = 100)"
   ]
  },
  {
   "cell_type": "code",
   "execution_count": 3344,
   "metadata": {},
   "outputs": [],
   "source": [
    "#importing the scaling library\n",
    "\n",
    "from sklearn.preprocessing import MinMaxScaler"
   ]
  },
  {
   "cell_type": "code",
   "execution_count": 3345,
   "metadata": {
    "scrolled": true
   },
   "outputs": [],
   "source": [
    "#dividing into X and y sets for model building for Train data\n",
    "\n",
    "y_train = df_train.pop('SalePrice').values.reshape(-1,1)\n",
    "X_train = df_train"
   ]
  },
  {
   "cell_type": "code",
   "execution_count": 3346,
   "metadata": {},
   "outputs": [],
   "source": [
    "#dividing into X and y sets for model building for Test data\n",
    "\n",
    "y_test = df_test.pop('SalePrice').values.reshape(-1,1)\n",
    "X_test = df_test"
   ]
  },
  {
   "cell_type": "code",
   "execution_count": 3347,
   "metadata": {},
   "outputs": [],
   "source": [
    "#creating a scaler object, fit and transform the train data\n",
    "Min_Max_Scaler = MinMaxScaler()\n",
    "X_train_scaled = Min_Max_Scaler.fit_transform(X_train)\n",
    "y_train_scaled = Min_Max_Scaler.fit_transform(y_train)"
   ]
  },
  {
   "cell_type": "code",
   "execution_count": 3348,
   "metadata": {},
   "outputs": [],
   "source": [
    "#creating a scaler object, transform the test data\n",
    "\n",
    "X_test_scaled = Min_Max_Scaler.transform(X_test)\n",
    "y_test_scaled = Min_Max_Scaler.transform(y_test)"
   ]
  },
  {
   "cell_type": "code",
   "execution_count": 3349,
   "metadata": {},
   "outputs": [
    {
     "name": "stdout",
     "output_type": "stream",
     "text": [
      "(965, 325)\n",
      "(965, 1)\n",
      "(414, 325)\n",
      "(414, 1)\n"
     ]
    }
   ],
   "source": [
    "#printing the shape of the train and test data\n",
    "print(X_train_scaled.shape)\n",
    "print(y_train_scaled.shape)\n",
    "print(X_test_scaled.shape)\n",
    "print(y_test_scaled.shape)"
   ]
  },
  {
   "cell_type": "code",
   "execution_count": 3350,
   "metadata": {},
   "outputs": [],
   "source": [
    "#importing all the necessary library\n",
    "\n",
    "from sklearn.linear_model import LinearRegression, Ridge, Lasso\n",
    "from sklearn.metrics import mean_squared_error, r2_score\n",
    "from sklearn.feature_selection import RFE\n",
    "from sklearn.model_selection import GridSearchCV\n",
    "\n"
   ]
  },
  {
   "cell_type": "markdown",
   "metadata": {},
   "source": [
    "# Ridge Regression"
   ]
  },
  {
   "cell_type": "markdown",
   "metadata": {},
   "source": [
    "### Parameter Tuning"
   ]
  },
  {
   "cell_type": "code",
   "execution_count": 3351,
   "metadata": {},
   "outputs": [
    {
     "name": "stdout",
     "output_type": "stream",
     "text": [
      "Fitting 5 folds for each of 28 candidates, totalling 140 fits\n"
     ]
    },
    {
     "name": "stderr",
     "output_type": "stream",
     "text": [
      "[Parallel(n_jobs=1)]: Using backend SequentialBackend with 1 concurrent workers.\n",
      "[Parallel(n_jobs=1)]: Done 140 out of 140 | elapsed:    1.5s finished\n"
     ]
    },
    {
     "data": {
      "text/plain": [
       "GridSearchCV(cv=5, error_score=nan,\n",
       "             estimator=Ridge(alpha=1.0, copy_X=True, fit_intercept=True,\n",
       "                             max_iter=None, normalize=False, random_state=None,\n",
       "                             solver='auto', tol=0.001),\n",
       "             iid='deprecated', n_jobs=None,\n",
       "             param_grid={'alpha': [0.0001, 0.001, 0.01, 0.05, 0.1, 0.2, 0.3,\n",
       "                                   0.4, 0.5, 0.6, 0.7, 0.8, 0.9, 1.0, 2.0, 3.0,\n",
       "                                   4.0, 5.0, 6.0, 7.0, 8.0, 9.0, 10.0, 20, 50,\n",
       "                                   100, 500, 1000]},\n",
       "             pre_dispatch='2*n_jobs', refit=True, return_train_score=True,\n",
       "             scoring='r2', verbose=1)"
      ]
     },
     "execution_count": 3351,
     "metadata": {},
     "output_type": "execute_result"
    }
   ],
   "source": [
    "# list of alphas to tune - if value too high it will lead to underfitting, if it is too low, \n",
    "params = {'alpha': [0.0001, 0.001, 0.01, 0.05, 0.1, \n",
    " 0.2, 0.3, 0.4, 0.5, 0.6, 0.7, 0.8, 0.9, 1.0, 2.0, 3.0, \n",
    " 4.0, 5.0, 6.0, 7.0, 8.0, 9.0, 10.0, 20, 50, 100, 500, 1000 ]}\n",
    "\n",
    "ridge = Ridge()\n",
    "\n",
    "# cross validation\n",
    "folds = 5\n",
    "model_cv = GridSearchCV(estimator = ridge, \n",
    "                        param_grid = params, \n",
    "                        scoring= 'r2',  \n",
    "                        cv = folds, \n",
    "                        return_train_score=True,\n",
    "                        verbose = 1)            \n",
    "model_cv.fit(X_train_scaled, y_train_scaled) "
   ]
  },
  {
   "cell_type": "code",
   "execution_count": 3352,
   "metadata": {},
   "outputs": [
    {
     "name": "stdout",
     "output_type": "stream",
     "text": [
      "{'alpha': 10.0}\n"
     ]
    }
   ],
   "source": [
    "# Printing the best hyperparameter alpha\n",
    "print(model_cv.best_params_)\n",
    "#storing the best value in a variable\n",
    "best_alpha = model_cv.best_params_['alpha']"
   ]
  },
  {
   "cell_type": "markdown",
   "metadata": {},
   "source": [
    "### Model Fit and Predict"
   ]
  },
  {
   "cell_type": "code",
   "execution_count": 3353,
   "metadata": {},
   "outputs": [
    {
     "name": "stdout",
     "output_type": "stream",
     "text": [
      "[[-1.26649882e-03 -9.64730743e-04  1.80571897e-02  2.54496474e-02\n",
      "   1.57717917e-02  1.10074291e-02  5.78483439e-03  1.94360583e-02\n",
      "   3.80957667e-02  4.71434284e-02  1.70248648e-03  5.00354330e-02\n",
      "   1.43653852e-02  4.13558996e-03  4.17488077e-02  1.35026189e-02\n",
      "   3.41085738e-03 -8.62241094e-03  4.51113934e-02  2.44849230e-02\n",
      "  -5.33888267e-03  4.54449959e-02  1.95444123e-02  1.17365276e-02\n",
      "   1.37651424e-02 -2.66459333e-03  8.03540948e-03  1.09227686e-02\n",
      "   1.00107414e-02  1.65521825e-03 -1.63875135e-03 -5.93222212e-03\n",
      "  -4.36988812e-03  7.83677140e-04  6.22714126e-03 -5.03962999e-03\n",
      "   3.21497756e-03  1.45914863e-03  2.56573872e-03 -3.51091735e-03\n",
      "   1.07619825e-02  4.63529066e-03 -6.33193065e-04 -7.23809125e-03\n",
      "  -1.28526324e-03 -1.41891430e-02  5.56942408e-03  1.84569828e-03\n",
      "   8.90154848e-03 -2.12752788e-03 -6.50045649e-03  6.50045649e-03\n",
      "   6.18997816e-04  5.13176192e-03  2.64790085e-04  1.17406795e-02\n",
      "  -8.42995365e-03 -3.57551590e-03 -7.35709102e-03  2.17054684e-03\n",
      "   1.90829788e-03  3.27824629e-03  0.00000000e+00  0.00000000e+00\n",
      "   1.30324133e-03  1.44030029e-02 -1.11559246e-02 -3.73553281e-03\n",
      "  -8.14786752e-04 -4.97179049e-03  3.51639594e-03  1.45539455e-03\n",
      "  -4.87474336e-03 -3.41546887e-03  3.42208782e-03  4.37047730e-03\n",
      "  -1.50224151e-03 -8.09520708e-03  2.13489445e-02 -1.99124510e-02\n",
      "  -1.54085125e-02 -3.31643904e-03 -8.33493068e-03 -1.59426771e-02\n",
      "  -1.26445944e-02 -8.43665793e-04 -9.88375112e-03  4.85481370e-02\n",
      "   1.37816064e-02 -1.01523663e-02 -1.23730182e-02 -7.80606889e-03\n",
      "   1.82798247e-03  9.75724585e-03  2.78303552e-02  5.14593487e-04\n",
      "   3.10470585e-03 -1.37969851e-03 -8.40972784e-03  1.06509069e-02\n",
      "   4.58867577e-03  1.62477746e-03 -7.06319498e-03  1.98318294e-03\n",
      "  -1.47212016e-04 -1.84770969e-03 -1.44008157e-03 -1.16617964e-04\n",
      "  -6.02766624e-04  3.71527029e-03 -1.55580414e-03  0.00000000e+00\n",
      "   0.00000000e+00  0.00000000e+00  1.29244962e-02  7.83677140e-04\n",
      "  -1.28526324e-03 -6.84806555e-03 -5.57484456e-03  2.99269016e-03\n",
      "   1.90670646e-05  2.10200770e-03  4.95767500e-03  1.14873956e-03\n",
      "  -4.20113334e-03 -4.62489891e-03 -2.39414723e-03  5.49360895e-02\n",
      "  -3.67933027e-03 -1.61396040e-02 -2.50110402e-02 -2.56842692e-02\n",
      "  -1.97203616e-02 -8.84961023e-03  1.01821787e-02  3.39659473e-02\n",
      "   0.00000000e+00 -1.58131811e-02 -1.29321494e-02 -4.61200930e-03\n",
      "   4.40747583e-03  1.00375115e-02  1.94917074e-03  1.69631818e-02\n",
      "  -1.11906434e-03 -2.71838243e-03 -1.19158676e-03  1.36015965e-03\n",
      "   2.88615006e-04  3.38025888e-03 -3.59553923e-02 -7.37056249e-03\n",
      "   9.78238047e-04 -1.82587922e-03 -2.77596125e-04 -3.77281270e-04\n",
      "   4.29767135e-03  4.05308021e-02 -3.90879758e-03 -2.26914503e-03\n",
      "   1.92247900e-02 -1.47141924e-03  1.34748119e-03 -2.05744818e-03\n",
      "   0.00000000e+00 -2.92416472e-03  3.78100741e-03  2.32477387e-03\n",
      "  -1.11357533e-02 -1.73705714e-03  1.54451931e-03 -2.71878661e-03\n",
      "  -5.69322206e-03 -4.12079895e-04 -5.35324840e-03  6.28966391e-03\n",
      "  -1.47141924e-03  2.64275902e-03  2.98961873e-03  2.15573187e-02\n",
      "   1.93799303e-03  0.00000000e+00 -1.53499690e-03 -4.97021334e-03\n",
      "  -1.38134985e-02  8.08307561e-03 -1.51590126e-03 -8.73584942e-03\n",
      "  -7.41608652e-03 -1.69672568e-03  9.23049250e-04  8.18976295e-03\n",
      "   1.42943435e-02 -6.67757162e-03  7.86103094e-04 -8.40287499e-03\n",
      "   3.71527029e-03  1.49834007e-03 -2.67049179e-03 -2.54311858e-03\n",
      "   1.93024544e-03  1.64921188e-03  4.83534426e-03 -6.70331379e-03\n",
      "   1.78671542e-03 -3.49820321e-03  3.66838820e-02 -4.33633274e-03\n",
      "  -5.32713299e-03 -8.13508009e-03 -7.72148744e-04  6.51635592e-03\n",
      "   0.00000000e+00  1.31411290e-02  2.71771687e-03  2.56432054e-02\n",
      "   3.72997558e-04 -8.44110199e-03  1.42907781e-03  5.26968020e-03\n",
      "   1.30862196e-02 -2.21443765e-05  5.33528408e-03 -6.21278107e-03\n",
      "   4.59511113e-03 -3.53915631e-03  9.84060466e-04  4.32634143e-03\n",
      "   6.06982210e-03  2.81502947e-03 -3.68634523e-03 -3.24045674e-03\n",
      "   9.36093844e-03 -2.33496977e-03 -6.63336854e-04  5.64170155e-04\n",
      "   4.74989895e-03  2.63613622e-04 -3.51686101e-03 -7.13952731e-04\n",
      "  -7.82698826e-04 -5.89567530e-03  5.89567530e-03  2.09403284e-05\n",
      "  -1.50546174e-03  3.55721266e-03  0.00000000e+00 -2.07269124e-03\n",
      "   2.98857934e-02 -8.74322661e-03 -9.52821296e-03 -1.16143538e-02\n",
      "  -6.41888138e-03 -2.26293609e-03 -2.24028520e-03 -8.14646075e-04\n",
      "   7.94549531e-04  0.00000000e+00  1.09421992e-02  2.45159312e-02\n",
      "  -4.98325253e-04  1.38610387e-03 -2.19089440e-03  5.71882101e-03\n",
      "  -8.41550914e-03  3.76390585e-03  2.53674319e-03  8.82680558e-03\n",
      "  -2.29991774e-03 -4.41202774e-03  4.00770110e-03 -2.93259633e-03\n",
      "  -1.07510477e-03  9.67301727e-03 -8.75659150e-03  2.15720618e-03\n",
      "   1.50517469e-03 -4.57880665e-03  0.00000000e+00 -4.19761740e-04\n",
      "  -1.80885527e-03 -2.69030245e-03  4.91891946e-03 -2.07860433e-03\n",
      "   6.67427154e-04  1.41117718e-03  3.04395362e-02  2.86850600e-04\n",
      "  -2.60784480e-02  1.62037332e-03  2.29280931e-03  4.68366789e-03\n",
      "  -5.31803631e-03  1.12676148e-03  3.14729433e-04 -2.41248381e-04\n",
      "  -1.66085580e-03 -6.74860107e-03 -5.08391740e-03  1.59432279e-05\n",
      "  -1.66041944e-03  4.56206584e-04  1.33280677e-03  4.73417666e-04\n",
      "   3.83939392e-03  1.79872010e-03  6.49380057e-03  9.21222055e-04\n",
      "  -1.83857299e-03 -2.61957948e-03 -1.69871711e-03  5.40012112e-03\n",
      "   8.01211688e-04 -1.23517923e-04 -3.78464844e-03  1.01309977e-02\n",
      "   1.94737047e-03 -1.00532380e-02 -2.95506706e-03  2.45332993e-03\n",
      "   5.54172953e-03 -9.82059622e-03  4.36709220e-03  4.13511623e-04\n",
      "   1.16791743e-02]]\n"
     ]
    }
   ],
   "source": [
    "#Fitting Ridge model for best_alpha and printing coefficients which have been penalised\n",
    "ridge = Ridge(alpha=best_alpha)\n",
    "\n",
    "ridge.fit(X_train_scaled, y_train_scaled)\n",
    "print(ridge.coef_)"
   ]
  },
  {
   "cell_type": "code",
   "execution_count": 3354,
   "metadata": {},
   "outputs": [
    {
     "name": "stdout",
     "output_type": "stream",
     "text": [
      "r2 score train = 0.9022967078850114\n"
     ]
    }
   ],
   "source": [
    "#predict on the created model and finding the R Squared value for train data\n",
    "y_train_pred = ridge.predict(X_train_scaled)\n",
    "print(\"r2 score train = \" + str(r2_score(y_train_scaled, y_train_pred)))"
   ]
  },
  {
   "cell_type": "code",
   "execution_count": 3355,
   "metadata": {
    "scrolled": true
   },
   "outputs": [
    {
     "data": {
      "text/plain": [
       "Text(0.5, 0, 'Errors')"
      ]
     },
     "execution_count": 3355,
     "metadata": {},
     "output_type": "execute_result"
    },
    {
     "data": {
      "image/png": "[encoded data removed]",
      "text/plain": [
       "<Figure size 432x288 with 1 Axes>"
      ]
     },
     "metadata": {
      "needs_background": "light"
     },
     "output_type": "display_data"
    }
   ],
   "source": [
    "#calculating the error on training data\n",
    "error_train = y_train_scaled - y_train_pred\n",
    "# Plot the histogram of the error terms\n",
    "fig = plt.figure()\n",
    "sns.distplot(error_train, bins = 20)\n",
    "# Plot heading \n",
    "fig.suptitle('Error Terms', fontsize = 20)  \n",
    "# X-label\n",
    "plt.xlabel('Errors', fontsize = 18)    "
   ]
  },
  {
   "cell_type": "code",
   "execution_count": 3356,
   "metadata": {},
   "outputs": [
    {
     "name": "stdout",
     "output_type": "stream",
     "text": [
      "r2 score test= -2.3793035934315405\n"
     ]
    }
   ],
   "source": [
    "#predict on the created model and finding the R Squared value for test data\n",
    "y_test_pred = ridge.predict(X_test_scaled)\n",
    "print(\"r2 score test= \" + str(r2_score(y_test_scaled, y_test_pred)))"
   ]
  },
  {
   "cell_type": "code",
   "execution_count": 3357,
   "metadata": {
    "scrolled": true
   },
   "outputs": [
    {
     "data": {
      "text/plain": [
       "Text(0.5, 0, 'Errors')"
      ]
     },
     "execution_count": 3357,
     "metadata": {},
     "output_type": "execute_result"
    },
    {
     "data": {
      "image/png": "[encoded data removed]",
      "text/plain": [
       "<Figure size 432x288 with 1 Axes>"
      ]
     },
     "metadata": {
      "needs_background": "light"
     },
     "output_type": "display_data"
    }
   ],
   "source": [
    "#calculating the error on testing data\n",
    "\n",
    "error_test = y_test_scaled - y_test_pred\n",
    "# Plot the histogram of the error terms\n",
    "fig = plt.figure()\n",
    "sns.distplot(error_test, bins = 20)\n",
    "# Plot heading \n",
    "fig.suptitle('Error Terms', fontsize = 20)  \n",
    "# X-label\n",
    "plt.xlabel('Errors', fontsize = 18)    "
   ]
  },
  {
   "cell_type": "markdown",
   "metadata": {},
   "source": [
    "# Lasso Regression"
   ]
  },
  {
   "cell_type": "code",
   "execution_count": 3358,
   "metadata": {},
   "outputs": [
    {
     "name": "stdout",
     "output_type": "stream",
     "text": [
      "Fitting 5 folds for each of 28 candidates, totalling 140 fits\n"
     ]
    },
    {
     "name": "stderr",
     "output_type": "stream",
     "text": [
      "[Parallel(n_jobs=1)]: Using backend SequentialBackend with 1 concurrent workers.\n",
      "[Parallel(n_jobs=1)]: Done 140 out of 140 | elapsed:    1.5s finished\n"
     ]
    },
    {
     "data": {
      "text/plain": [
       "GridSearchCV(cv=5, error_score=nan,\n",
       "             estimator=Lasso(alpha=1.0, copy_X=True, fit_intercept=True,\n",
       "                             max_iter=1000, normalize=False, positive=False,\n",
       "                             precompute=False, random_state=None,\n",
       "                             selection='cyclic', tol=0.0001, warm_start=False),\n",
       "             iid='deprecated', n_jobs=None,\n",
       "             param_grid={'alpha': [0.0001, 0.001, 0.01, 0.05, 0.1, 0.2, 0.3,\n",
       "                                   0.4, 0.5, 0.6, 0.7, 0.8, 0.9, 1.0, 2.0, 3.0,\n",
       "                                   4.0, 5.0, 6.0, 7.0, 8.0, 9.0, 10.0, 20, 50,\n",
       "                                   100, 500, 1000]},\n",
       "             pre_dispatch='2*n_jobs', refit=True, return_train_score=True,\n",
       "             scoring='r2', verbose=1)"
      ]
     },
     "execution_count": 3358,
     "metadata": {},
     "output_type": "execute_result"
    }
   ],
   "source": [
    "#creation of lasso regression object\n",
    "lasso = Lasso()\n",
    "folds = 5\n",
    "params = {'alpha': [0.0001, 0.001, 0.01, 0.05, 0.1, \n",
    " 0.2, 0.3, 0.4, 0.5, 0.6, 0.7, 0.8, 0.9, 1.0, 2.0, 3.0, \n",
    " 4.0, 5.0, 6.0, 7.0, 8.0, 9.0, 10.0, 20, 50, 100, 500, 1000 ]}\n",
    "# cross validation\n",
    "model_cv = GridSearchCV(estimator = lasso, \n",
    "                        param_grid = params, \n",
    "                        scoring= 'r2', \n",
    "                        cv = folds, \n",
    "                        return_train_score=True,\n",
    "                        verbose = 1)            \n",
    "\n",
    "model_cv.fit(X_train_scaled, y_train_scaled) "
   ]
  },
  {
   "cell_type": "code",
   "execution_count": 3359,
   "metadata": {},
   "outputs": [
    {
     "name": "stdout",
     "output_type": "stream",
     "text": [
      "{'alpha': 0.0001}\n"
     ]
    }
   ],
   "source": [
    "# Printing the best hyperparameter alpha\n",
    "print(model_cv.best_params_)\n",
    "best_alpha = model_cv.best_params_['alpha']"
   ]
  },
  {
   "cell_type": "code",
   "execution_count": 3360,
   "metadata": {},
   "outputs": [
    {
     "data": {
      "text/plain": [
       "Lasso(alpha=0.0001, copy_X=True, fit_intercept=True, max_iter=1000,\n",
       "      normalize=False, positive=False, precompute=False, random_state=None,\n",
       "      selection='cyclic', tol=0.0001, warm_start=False)"
      ]
     },
     "execution_count": 3360,
     "metadata": {},
     "output_type": "execute_result"
    }
   ],
   "source": [
    "#Fitting Ridge model for best_alpha and printing coefficients which have been penalised\n",
    "\n",
    "lasso = Lasso(alpha=best_alpha)\n",
    "        \n",
    "lasso.fit(X_train_scaled, y_train_scaled) "
   ]
  },
  {
   "cell_type": "code",
   "execution_count": 3361,
   "metadata": {
    "scrolled": true
   },
   "outputs": [
    {
     "data": {
      "text/plain": [
       "array([ 0.00000000e+00,  0.00000000e+00,  6.60571412e-02,  2.09454712e-02,\n",
       "        9.29149744e-02,  1.45658714e-02, -0.00000000e+00,  6.45288999e-02,\n",
       "        0.00000000e+00,  0.00000000e+00, -1.40056211e-02,  3.81308784e-01,\n",
       "        7.58073154e-03,  4.57610418e-04,  1.63355962e-02,  5.48043627e-03,\n",
       "       -1.11977440e-02, -1.94149035e-02,  7.24748960e-03,  1.53212374e-02,\n",
       "        0.00000000e+00,  4.16971060e-02,  0.00000000e+00,  6.31185795e-03,\n",
       "        1.51863912e-02, -2.50579048e-04,  3.73649367e-03,  6.38223454e-03,\n",
       "        5.22048450e-03,  0.00000000e+00,  0.00000000e+00, -0.00000000e+00,\n",
       "       -0.00000000e+00,  0.00000000e+00,  4.08551679e-03, -0.00000000e+00,\n",
       "        0.00000000e+00,  0.00000000e+00, -0.00000000e+00,  0.00000000e+00,\n",
       "        2.85450901e-04, -1.25610032e-02,  1.68302688e-03, -1.78394515e-03,\n",
       "       -0.00000000e+00, -1.24158127e-02,  0.00000000e+00,  0.00000000e+00,\n",
       "        6.55282900e-03, -3.86284149e-03, -5.34722682e-03,  0.00000000e+00,\n",
       "       -0.00000000e+00,  0.00000000e+00, -0.00000000e+00,  6.34456231e-03,\n",
       "        0.00000000e+00, -1.61140133e-03, -0.00000000e+00, -0.00000000e+00,\n",
       "       -0.00000000e+00,  1.74006223e-03,  0.00000000e+00,  0.00000000e+00,\n",
       "        0.00000000e+00,  1.33620122e-02, -7.42743737e-03, -0.00000000e+00,\n",
       "        0.00000000e+00,  0.00000000e+00,  0.00000000e+00, -0.00000000e+00,\n",
       "        0.00000000e+00, -0.00000000e+00,  0.00000000e+00,  5.75759067e-03,\n",
       "        0.00000000e+00,  0.00000000e+00,  2.65618209e-02, -1.07662610e-02,\n",
       "       -2.28014450e-03, -0.00000000e+00, -0.00000000e+00, -7.97172932e-03,\n",
       "       -7.32854930e-03,  0.00000000e+00, -3.15928532e-03,  4.29510600e-02,\n",
       "        8.71799037e-03, -1.13720242e-02, -1.44162947e-02, -6.56641712e-04,\n",
       "        3.83409851e-03,  2.02961283e-02,  3.82851115e-02, -0.00000000e+00,\n",
       "        0.00000000e+00, -0.00000000e+00, -0.00000000e+00,  1.42716241e-02,\n",
       "        0.00000000e+00, -0.00000000e+00, -4.09747356e-03,  3.26210442e-05,\n",
       "        0.00000000e+00, -0.00000000e+00, -0.00000000e+00, -0.00000000e+00,\n",
       "        0.00000000e+00,  0.00000000e+00, -0.00000000e+00,  0.00000000e+00,\n",
       "        0.00000000e+00,  0.00000000e+00,  1.45022280e-02,  0.00000000e+00,\n",
       "       -0.00000000e+00, -0.00000000e+00,  0.00000000e+00, -0.00000000e+00,\n",
       "        0.00000000e+00,  1.28467335e-04, -0.00000000e+00,  0.00000000e+00,\n",
       "       -4.66851273e-03, -0.00000000e+00,  0.00000000e+00,  1.28166035e-01,\n",
       "       -0.00000000e+00, -0.00000000e+00, -1.02241794e-02, -7.32348632e-03,\n",
       "       -3.09128874e-03,  5.92905388e-03,  2.77968254e-02,  8.13370084e-02,\n",
       "        0.00000000e+00, -2.50553402e-02, -2.13089669e-02, -7.65238664e-03,\n",
       "        0.00000000e+00,  9.89439118e-03,  2.82604179e-03,  1.82545803e-02,\n",
       "        0.00000000e+00,  0.00000000e+00, -0.00000000e+00, -7.09194208e-04,\n",
       "       -0.00000000e+00,  0.00000000e+00, -6.64245631e-01, -0.00000000e+00,\n",
       "        0.00000000e+00,  0.00000000e+00, -0.00000000e+00,  0.00000000e+00,\n",
       "        0.00000000e+00,  1.12777032e-01, -0.00000000e+00, -0.00000000e+00,\n",
       "        2.40211636e-02, -0.00000000e+00, -0.00000000e+00,  0.00000000e+00,\n",
       "        0.00000000e+00,  0.00000000e+00, -0.00000000e+00, -0.00000000e+00,\n",
       "       -0.00000000e+00,  0.00000000e+00, -0.00000000e+00,  0.00000000e+00,\n",
       "       -4.97179041e-03, -0.00000000e+00, -0.00000000e+00,  0.00000000e+00,\n",
       "       -0.00000000e+00,  0.00000000e+00,  7.97020140e-04,  1.61301760e-02,\n",
       "        1.13573262e-03,  0.00000000e+00, -0.00000000e+00, -7.69849448e-04,\n",
       "       -4.39186459e-03,  7.34642636e-03,  0.00000000e+00, -3.64432797e-03,\n",
       "       -0.00000000e+00, -2.03242348e-03,  0.00000000e+00,  9.15096410e-03,\n",
       "        9.07861213e-04, -0.00000000e+00,  0.00000000e+00, -4.61594037e-03,\n",
       "        0.00000000e+00,  0.00000000e+00, -2.38694050e-03,  0.00000000e+00,\n",
       "       -0.00000000e+00,  1.78380349e-03,  4.88992140e-03, -0.00000000e+00,\n",
       "        0.00000000e+00, -0.00000000e+00,  3.64821666e-02,  0.00000000e+00,\n",
       "        0.00000000e+00, -2.58962817e-03, -1.83213576e-03,  6.76316890e-04,\n",
       "        0.00000000e+00,  6.53791838e-03,  2.39899883e-03,  2.40183469e-02,\n",
       "        0.00000000e+00, -4.05966368e-03,  0.00000000e+00,  2.91170683e-03,\n",
       "        8.68215223e-03, -1.48497798e-03,  0.00000000e+00, -0.00000000e+00,\n",
       "        0.00000000e+00, -1.84319602e-03,  0.00000000e+00, -0.00000000e+00,\n",
       "        0.00000000e+00,  0.00000000e+00, -0.00000000e+00, -0.00000000e+00,\n",
       "        0.00000000e+00, -0.00000000e+00, -0.00000000e+00,  0.00000000e+00,\n",
       "        4.37356452e-03,  0.00000000e+00, -1.98402508e-03,  0.00000000e+00,\n",
       "       -0.00000000e+00, -3.85513100e-03,  0.00000000e+00,  0.00000000e+00,\n",
       "        0.00000000e+00,  0.00000000e+00,  0.00000000e+00, -3.92878980e-04,\n",
       "        2.40235448e-02, -0.00000000e+00,  0.00000000e+00, -4.59142407e-04,\n",
       "       -1.18351119e-02, -0.00000000e+00,  0.00000000e+00,  0.00000000e+00,\n",
       "       -0.00000000e+00,  0.00000000e+00,  1.93447601e-02,  7.73095131e-04,\n",
       "       -0.00000000e+00, -8.41771466e-04,  0.00000000e+00,  1.34524621e-05,\n",
       "       -1.90729512e-03,  4.45509344e-03, -0.00000000e+00,  6.92507772e-03,\n",
       "       -0.00000000e+00, -0.00000000e+00,  2.63061429e-03, -1.01840812e-03,\n",
       "        0.00000000e+00,  0.00000000e+00, -3.94670464e-03,  0.00000000e+00,\n",
       "        0.00000000e+00,  0.00000000e+00,  0.00000000e+00, -0.00000000e+00,\n",
       "        0.00000000e+00, -0.00000000e+00,  2.33684453e-03, -0.00000000e+00,\n",
       "       -0.00000000e+00,  9.42827974e-04,  6.40407164e-02,  0.00000000e+00,\n",
       "       -0.00000000e+00, -0.00000000e+00,  0.00000000e+00,  2.17784759e-03,\n",
       "       -0.00000000e+00,  0.00000000e+00,  0.00000000e+00,  0.00000000e+00,\n",
       "       -0.00000000e+00, -0.00000000e+00, -3.13795082e-03,  0.00000000e+00,\n",
       "       -4.46516501e-03, -0.00000000e+00, -6.41793307e-04,  0.00000000e+00,\n",
       "        3.88017427e-03,  0.00000000e+00,  5.34012898e-03,  0.00000000e+00,\n",
       "       -2.16127515e-03, -0.00000000e+00, -0.00000000e+00,  0.00000000e+00,\n",
       "        0.00000000e+00, -0.00000000e+00, -0.00000000e+00,  2.59770682e-02,\n",
       "        0.00000000e+00, -7.00158382e-03, -0.00000000e+00,  0.00000000e+00,\n",
       "        0.00000000e+00, -5.37296703e-03,  8.92058199e-03,  0.00000000e+00,\n",
       "        9.64162286e-03])"
      ]
     },
     "execution_count": 3361,
     "metadata": {},
     "output_type": "execute_result"
    }
   ],
   "source": [
    "lasso.coef_"
   ]
  },
  {
   "cell_type": "code",
   "execution_count": 3362,
   "metadata": {},
   "outputs": [
    {
     "name": "stdout",
     "output_type": "stream",
     "text": [
      "r2 score = 0.9410744923994214\n"
     ]
    }
   ],
   "source": [
    "#predict on the created model and finding the R Squared value for train data\n",
    "y_train_pred_lasso = lasso.predict(X_train_scaled)\n",
    "print(\"r2 score = \" + str(r2_score(y_train_scaled, y_train_pred_lasso)))"
   ]
  },
  {
   "cell_type": "code",
   "execution_count": 3363,
   "metadata": {
    "scrolled": true
   },
   "outputs": [
    {
     "data": {
      "text/plain": [
       "Text(0.5, 0, 'Errors')"
      ]
     },
     "execution_count": 3363,
     "metadata": {},
     "output_type": "execute_result"
    },
    {
     "data": {
      "image/png": "[encoded data removed]",
      "text/plain": [
       "<Figure size 432x288 with 1 Axes>"
      ]
     },
     "metadata": {
      "needs_background": "light"
     },
     "output_type": "display_data"
    }
   ],
   "source": [
    "#calculating the error on training data\n",
    "error_train = y_train_scaled - y_train_pred_lasso\n",
    "# Plot the histogram of the error terms\n",
    "fig = plt.figure()\n",
    "sns.distplot(error_train, bins = 20)\n",
    "# Plot heading \n",
    "fig.suptitle('Error Terms', fontsize = 20)  \n",
    "# X-label\n",
    "plt.xlabel('Errors', fontsize = 18)    "
   ]
  },
  {
   "cell_type": "code",
   "execution_count": 3364,
   "metadata": {},
   "outputs": [
    {
     "name": "stdout",
     "output_type": "stream",
     "text": [
      "r2 score = -5.4366984902059645\n"
     ]
    }
   ],
   "source": [
    "#predict on the created model and finding the R Squared value for test data\n",
    "y_test_pred_lasso = lasso.predict(X_test_scaled)\n",
    "print(\"r2 score = \" + str(r2_score(y_test_scaled, y_test_pred_lasso)))"
   ]
  },
  {
   "cell_type": "code",
   "execution_count": 3365,
   "metadata": {
    "scrolled": true
   },
   "outputs": [
    {
     "data": {
      "text/plain": [
       "Text(0.5, 0, 'Errors')"
      ]
     },
     "execution_count": 3365,
     "metadata": {},
     "output_type": "execute_result"
    },
    {
     "data": {
      "image/png": "[encoded data removed]",
      "text/plain": [
       "<Figure size 432x288 with 1 Axes>"
      ]
     },
     "metadata": {
      "needs_background": "light"
     },
     "output_type": "display_data"
    }
   ],
   "source": [
    "#calculating the error on testing data\n",
    "error_test = y_test_scaled - y_test_pred_lasso\n",
    "# Plot the histogram of the error terms\n",
    "fig = plt.figure()\n",
    "sns.distplot(error_test, bins = 20)\n",
    "# Plot heading \n",
    "fig.suptitle('Error Terms', fontsize = 20)  \n",
    "# X-label\n",
    "plt.xlabel('Errors', fontsize = 18)    "
   ]
  },
  {
   "cell_type": "markdown",
   "metadata": {},
   "source": [
    "from the above computed models it is clear that the r2 value is very high on the training data and the r2 value is verry less for the testing data. clearly this indicates `OVERFITTING` . Also the error tearms are not uniformly distributed and not centered at zero"
   ]
  },
  {
   "cell_type": "markdown",
   "metadata": {},
   "source": [
    "the cause of overfitting is because the model became too complex because of the number of predictor variables, to avoid it i use RFE and remove some features"
   ]
  },
  {
   "cell_type": "markdown",
   "metadata": {},
   "source": [
    "# RFE"
   ]
  },
  {
   "cell_type": "markdown",
   "metadata": {},
   "source": [
    "number of features that are to be considerred, i gave as input, i consider number of features as 50, to reduce the model beeing too complex"
   ]
  },
  {
   "cell_type": "code",
   "execution_count": 3366,
   "metadata": {},
   "outputs": [],
   "source": [
    "#storing the number of features considered in a variable\n",
    "number_of_features_considered = 50"
   ]
  },
  {
   "cell_type": "code",
   "execution_count": 3367,
   "metadata": {},
   "outputs": [
    {
     "data": {
      "text/plain": [
       "Index(['Foundation_BrkTil', 'Foundation_CBlock', 'Foundation_PConc',\n",
       "       'Foundation_Slab', 'Foundation_Stone', 'Foundation_Wood',\n",
       "       'Heating_Floor', 'Heating_GasA', 'Heating_GasW', 'Heating_Grav',\n",
       "       'Heating_OthW', 'Heating_Wall', 'HeatingQC_Ex', 'HeatingQC_Fa',\n",
       "       'HeatingQC_Gd', 'HeatingQC_Po', 'HeatingQC_TA', 'CentralAir_N',\n",
       "       'CentralAir_Y', 'Electrical_FuseA', 'Electrical_FuseF',\n",
       "       'Electrical_FuseP', 'Electrical_SBrkr', 'KitchenQual_Ex',\n",
       "       'KitchenQual_Fa', 'KitchenQual_Gd', 'KitchenQual_TA', 'Functional_Maj1',\n",
       "       'Functional_Maj2', 'Functional_Min1', 'Functional_Min2',\n",
       "       'Functional_Mod', 'Functional_Typ', 'GarageType_2Types',\n",
       "       'GarageType_Attchd', 'GarageType_Basment', 'GarageType_BuiltIn',\n",
       "       'GarageType_CarPort', 'GarageType_Detchd', 'GarageFinish_Fin',\n",
       "       'GarageFinish_RFn', 'GarageFinish_Unf', 'GarageQual_Ex',\n",
       "       'GarageQual_Fa', 'GarageQual_Gd', 'GarageQual_Po', 'GarageQual_TA',\n",
       "       'SaleCondition_Abnorml', 'SaleCondition_Family',\n",
       "       'SaleCondition_Normal'],\n",
       "      dtype='object')"
      ]
     },
     "execution_count": 3367,
     "metadata": {},
     "output_type": "execute_result"
    }
   ],
   "source": [
    "# Running RFE with the output number of the variable equal to 10\n",
    "lm = LinearRegression()\n",
    "lm.fit(X_train, y_train)\n",
    "\n",
    "rfe = RFE(lm, number_of_features_considered)             # running RFE\n",
    "rfe = rfe.fit(X_train, y_train)\n",
    "\n",
    "list(zip(X_train.columns,rfe.support_,rfe.ranking_))\n",
    "\n",
    "col = X_train.columns[rfe.support_]\n",
    "col "
   ]
  },
  {
   "cell_type": "code",
   "execution_count": 3368,
   "metadata": {},
   "outputs": [],
   "source": [
    "#selecting only the columns that RFE suggested in both testing and training datasets\n",
    "X_rfe_train = df_train[col]\n",
    "X_rfe_test = df_test[col]\n",
    "X_rfe_train_scaled = Min_Max_Scaler.fit_transform(X_rfe_train)\n",
    "X_rfe_test_scaled = Min_Max_Scaler.fit_transform(X_rfe_test)"
   ]
  },
  {
   "cell_type": "markdown",
   "metadata": {},
   "source": [
    "# Lasso after RFE"
   ]
  },
  {
   "cell_type": "code",
   "execution_count": 3369,
   "metadata": {},
   "outputs": [
    {
     "name": "stdout",
     "output_type": "stream",
     "text": [
      "Fitting 5 folds for each of 28 candidates, totalling 140 fits\n"
     ]
    },
    {
     "name": "stderr",
     "output_type": "stream",
     "text": [
      "[Parallel(n_jobs=1)]: Using backend SequentialBackend with 1 concurrent workers.\n",
      "[Parallel(n_jobs=1)]: Done 140 out of 140 | elapsed:    0.3s finished\n"
     ]
    },
    {
     "data": {
      "text/plain": [
       "GridSearchCV(cv=5, error_score=nan,\n",
       "             estimator=Lasso(alpha=1.0, copy_X=True, fit_intercept=True,\n",
       "                             max_iter=1000, normalize=False, positive=False,\n",
       "                             precompute=False, random_state=None,\n",
       "                             selection='cyclic', tol=0.0001, warm_start=False),\n",
       "             iid='deprecated', n_jobs=None,\n",
       "             param_grid={'alpha': [0.0001, 0.001, 0.01, 0.05, 0.1, 0.2, 0.3,\n",
       "                                   0.4, 0.5, 0.6, 0.7, 0.8, 0.9, 1.0, 2.0, 3.0,\n",
       "                                   4.0, 5.0, 6.0, 7.0, 8.0, 9.0, 10.0, 20, 50,\n",
       "                                   100, 500, 1000]},\n",
       "             pre_dispatch='2*n_jobs', refit=True, return_train_score=True,\n",
       "             scoring='r2', verbose=1)"
      ]
     },
     "execution_count": 3369,
     "metadata": {},
     "output_type": "execute_result"
    }
   ],
   "source": [
    "#Applying regularization after the RFE\n",
    "lasso = Lasso()\n",
    "folds = 5\n",
    "params = {'alpha': [0.0001, 0.001, 0.01, 0.05, 0.1, \n",
    " 0.2, 0.3, 0.4, 0.5, 0.6, 0.7, 0.8, 0.9, 1.0, 2.0, 3.0, \n",
    " 4.0, 5.0, 6.0, 7.0, 8.0, 9.0, 10.0, 20, 50, 100, 500, 1000 ]}\n",
    "# cross validation\n",
    "model_cv = GridSearchCV(estimator = lasso, \n",
    "                        param_grid = params, \n",
    "                        scoring= 'r2', \n",
    "                        cv = folds, \n",
    "                        return_train_score=True,\n",
    "                        verbose = 1)            \n",
    "\n",
    "model_cv.fit(X_rfe_train_scaled, y_train_scaled) "
   ]
  },
  {
   "cell_type": "code",
   "execution_count": 3370,
   "metadata": {},
   "outputs": [
    {
     "name": "stdout",
     "output_type": "stream",
     "text": [
      "{'alpha': 0.0001}\n"
     ]
    }
   ],
   "source": [
    "# Printing the best hyperparameter alpha\n",
    "print(model_cv.best_params_)\n",
    "best_alpha = model_cv.best_params_['alpha']"
   ]
  },
  {
   "cell_type": "code",
   "execution_count": 3371,
   "metadata": {},
   "outputs": [
    {
     "data": {
      "text/plain": [
       "Lasso(alpha=0.0001, copy_X=True, fit_intercept=True, max_iter=1000,\n",
       "      normalize=False, positive=False, precompute=False, random_state=None,\n",
       "      selection='cyclic', tol=0.0001, warm_start=False)"
      ]
     },
     "execution_count": 3371,
     "metadata": {},
     "output_type": "execute_result"
    }
   ],
   "source": [
    "#Fitting Ridge model for best_alpha and printing coefficients which have been penalised\n",
    "\n",
    "lasso = Lasso(alpha=best_alpha)\n",
    "        \n",
    "lasso.fit(X_rfe_train_scaled, y_train_scaled) "
   ]
  },
  {
   "cell_type": "code",
   "execution_count": 3372,
   "metadata": {
    "scrolled": true
   },
   "outputs": [
    {
     "data": {
      "text/plain": [
       "array([ 0.00000000e+00, -1.49214217e-02,  1.16173521e-02, -3.75555223e-02,\n",
       "        0.00000000e+00,  0.00000000e+00, -0.00000000e+00, -0.00000000e+00,\n",
       "        7.17272067e-02, -0.00000000e+00,  0.00000000e+00,  0.00000000e+00,\n",
       "        1.61747863e-02,  2.41856234e-04, -7.04151598e-03, -0.00000000e+00,\n",
       "       -0.00000000e+00, -2.52713422e-02,  4.94902632e-18, -3.98583477e-03,\n",
       "       -0.00000000e+00,  0.00000000e+00,  1.22743935e-02,  1.87544254e-01,\n",
       "       -2.24216548e-02,  3.65509005e-02, -5.63975662e-03, -2.79225911e-02,\n",
       "       -0.00000000e+00,  0.00000000e+00, -5.15919529e-04,  1.78087810e-02,\n",
       "        9.25664387e-04,  0.00000000e+00,  1.31884300e-02, -0.00000000e+00,\n",
       "        2.70780080e-02, -0.00000000e+00, -2.63361987e-02,  2.10034810e-02,\n",
       "       -0.00000000e+00, -1.23479388e-02,  1.49105396e-01, -4.05778073e-02,\n",
       "        1.13475232e-02,  0.00000000e+00, -2.51738676e-02, -4.36362229e-02,\n",
       "       -4.44455553e-02, -2.04337142e-02])"
      ]
     },
     "execution_count": 3372,
     "metadata": {},
     "output_type": "execute_result"
    }
   ],
   "source": [
    "lasso.coef_"
   ]
  },
  {
   "cell_type": "code",
   "execution_count": 3373,
   "metadata": {},
   "outputs": [
    {
     "name": "stdout",
     "output_type": "stream",
     "text": [
      "r2 score = 0.590402014171689\n"
     ]
    }
   ],
   "source": [
    "#predict on the created model and finding the R Squared value for training data\n",
    "y_train_pred_lasso = lasso.predict(X_rfe_train_scaled)\n",
    "print(\"r2 score = \" + str(r2_score(y_train_scaled, y_train_pred_lasso)))"
   ]
  },
  {
   "cell_type": "code",
   "execution_count": 3374,
   "metadata": {
    "scrolled": true
   },
   "outputs": [
    {
     "data": {
      "text/plain": [
       "Text(0.5, 0, 'Errors')"
      ]
     },
     "execution_count": 3374,
     "metadata": {},
     "output_type": "execute_result"
    },
    {
     "data": {
      "image/png": "[encoded data removed]",
      "text/plain": [
       "<Figure size 432x288 with 1 Axes>"
      ]
     },
     "metadata": {
      "needs_background": "light"
     },
     "output_type": "display_data"
    }
   ],
   "source": [
    "#calculating the error on training data\n",
    "error_train = y_train_scaled - y_train_pred_lasso\n",
    "# Plot the histogram of the error terms\n",
    "fig = plt.figure()\n",
    "sns.distplot(error_train, bins = 20)\n",
    "# Plot heading \n",
    "fig.suptitle('Error Terms', fontsize = 20)  \n",
    "# X-label\n",
    "plt.xlabel('Errors', fontsize = 18)    "
   ]
  },
  {
   "cell_type": "code",
   "execution_count": 3375,
   "metadata": {},
   "outputs": [
    {
     "name": "stdout",
     "output_type": "stream",
     "text": [
      "r2 score = 0.48323944701138766\n"
     ]
    }
   ],
   "source": [
    "#predict on the created model and finding the R Squared value for test data\n",
    "y_test_pred_lasso = lasso.predict(X_rfe_test_scaled)\n",
    "print(\"r2 score = \" + str(r2_score(y_test_scaled, y_test_pred_lasso)))"
   ]
  },
  {
   "cell_type": "code",
   "execution_count": 3376,
   "metadata": {
    "scrolled": true
   },
   "outputs": [
    {
     "data": {
      "text/plain": [
       "Text(0.5, 0, 'Errors')"
      ]
     },
     "execution_count": 3376,
     "metadata": {},
     "output_type": "execute_result"
    },
    {
     "data": {
      "image/png": "[encoded data removed]",
      "text/plain": [
       "<Figure size 432x288 with 1 Axes>"
      ]
     },
     "metadata": {
      "needs_background": "light"
     },
     "output_type": "display_data"
    }
   ],
   "source": [
    "#calculating the error on testing data\n",
    "error_test = y_test_scaled - y_test_pred_lasso\n",
    "# Plot the histogram of the error terms\n",
    "fig = plt.figure()\n",
    "sns.distplot(error_test, bins = 20)\n",
    "# Plot heading \n",
    "fig.suptitle('Error Terms', fontsize = 20)  \n",
    "# X-label\n",
    "plt.xlabel('Errors', fontsize = 18)    "
   ]
  },
  {
   "cell_type": "markdown",
   "metadata": {},
   "source": [
    "# Ridged after RFE"
   ]
  },
  {
   "cell_type": "code",
   "execution_count": 3377,
   "metadata": {},
   "outputs": [
    {
     "name": "stdout",
     "output_type": "stream",
     "text": [
      "Fitting 5 folds for each of 28 candidates, totalling 140 fits\n"
     ]
    },
    {
     "name": "stderr",
     "output_type": "stream",
     "text": [
      "[Parallel(n_jobs=1)]: Using backend SequentialBackend with 1 concurrent workers.\n",
      "[Parallel(n_jobs=1)]: Done 140 out of 140 | elapsed:    0.2s finished\n"
     ]
    },
    {
     "data": {
      "text/plain": [
       "GridSearchCV(cv=5, error_score=nan,\n",
       "             estimator=Ridge(alpha=1.0, copy_X=True, fit_intercept=True,\n",
       "                             max_iter=None, normalize=False, random_state=None,\n",
       "                             solver='auto', tol=0.001),\n",
       "             iid='deprecated', n_jobs=None,\n",
       "             param_grid={'alpha': [0.0001, 0.001, 0.01, 0.05, 0.1, 0.2, 0.3,\n",
       "                                   0.4, 0.5, 0.6, 0.7, 0.8, 0.9, 1.0, 2.0, 3.0,\n",
       "                                   4.0, 5.0, 6.0, 7.0, 8.0, 9.0, 10.0, 20, 50,\n",
       "                                   100, 500, 1000]},\n",
       "             pre_dispatch='2*n_jobs', refit=True, return_train_score=True,\n",
       "             scoring='r2', verbose=1)"
      ]
     },
     "execution_count": 3377,
     "metadata": {},
     "output_type": "execute_result"
    }
   ],
   "source": [
    "# list of alphas to tune - if value too high it will lead to underfitting, if it is too low, \n",
    "# it will not handle the overfitting\n",
    "params = {'alpha': [0.0001, 0.001, 0.01, 0.05, 0.1, \n",
    " 0.2, 0.3, 0.4, 0.5, 0.6, 0.7, 0.8, 0.9, 1.0, 2.0, 3.0, \n",
    " 4.0, 5.0, 6.0, 7.0, 8.0, 9.0, 10.0, 20, 50, 100, 500, 1000 ]}\n",
    "\n",
    "ridge = Ridge()\n",
    "\n",
    "# cross validation\n",
    "folds = 5\n",
    "model_cv = GridSearchCV(estimator = ridge, \n",
    "                        param_grid = params, \n",
    "                        scoring= 'r2',  \n",
    "                        cv = folds, \n",
    "                        return_train_score=True,\n",
    "                        verbose = 1)            \n",
    "model_cv.fit(X_rfe_train_scaled, y_train_scaled) "
   ]
  },
  {
   "cell_type": "code",
   "execution_count": 3378,
   "metadata": {},
   "outputs": [
    {
     "name": "stdout",
     "output_type": "stream",
     "text": [
      "{'alpha': 4.0}\n"
     ]
    }
   ],
   "source": [
    "# Printing the best hyperparameter alpha\n",
    "print(model_cv.best_params_)\n",
    "best_alpha = model_cv.best_params_['alpha']"
   ]
  },
  {
   "cell_type": "code",
   "execution_count": 3379,
   "metadata": {},
   "outputs": [
    {
     "name": "stdout",
     "output_type": "stream",
     "text": [
      "[[ 7.15927304e-03 -9.22340271e-03  1.77023364e-02 -2.99720402e-02\n",
      "   3.57976587e-03  1.07540676e-02 -1.07511846e-02 -1.95792528e-02\n",
      "   4.28128705e-02 -1.72351214e-02  4.01512621e-03  7.37562061e-04\n",
      "   1.41187187e-02  4.52420163e-05 -1.03512132e-02 -3.40943002e-04\n",
      "  -3.47180454e-03 -1.48219110e-02  1.48219110e-02 -7.00263727e-03\n",
      "  -5.24790718e-03  1.70228370e-03  1.05482607e-02  1.31435375e-01\n",
      "  -6.14963218e-02 -1.43494808e-02 -5.55895721e-02 -2.38724032e-02\n",
      "  -1.02443005e-02  6.32293603e-03 -7.16278160e-04  2.29467112e-02\n",
      "   5.56333468e-03  4.13434179e-03  1.20732975e-02 -3.96414164e-03\n",
      "   2.64957959e-02 -1.13056404e-02 -2.74336531e-02  1.85815776e-02\n",
      "  -3.06946704e-03 -1.55121106e-02  4.99524229e-02 -3.92189977e-02\n",
      "   1.53177801e-02 -1.36260686e-03 -2.46885986e-02 -4.14301367e-02\n",
      "  -4.05741636e-02 -2.00491906e-02]]\n"
     ]
    }
   ],
   "source": [
    "#Fitting Ridge model for best_alpha  and printing coefficients which have been penalised\n",
    "\n",
    "ridge = Ridge(alpha=best_alpha)\n",
    "\n",
    "ridge.fit(X_rfe_train_scaled, y_train_scaled)\n",
    "print(ridge.coef_)"
   ]
  },
  {
   "cell_type": "code",
   "execution_count": 3380,
   "metadata": {},
   "outputs": [
    {
     "name": "stdout",
     "output_type": "stream",
     "text": [
      "r2 score = 0.5875536062578522\n"
     ]
    }
   ],
   "source": [
    "#predict on the created model and finding the R Squared value for training data\n",
    "y_train_pred_ridge = ridge.predict(X_rfe_train_scaled)\n",
    "print(\"r2 score = \" + str(r2_score(y_train_scaled, y_train_pred_ridge)))"
   ]
  },
  {
   "cell_type": "code",
   "execution_count": 3381,
   "metadata": {
    "scrolled": true
   },
   "outputs": [
    {
     "data": {
      "text/plain": [
       "Text(0.5, 0, 'Errors')"
      ]
     },
     "execution_count": 3381,
     "metadata": {},
     "output_type": "execute_result"
    },
    {
     "data": {
      "image/png": "[encoded data removed]",
      "text/plain": [
       "<Figure size 432x288 with 1 Axes>"
      ]
     },
     "metadata": {
      "needs_background": "light"
     },
     "output_type": "display_data"
    }
   ],
   "source": [
    "#calculating the error on training data\n",
    "error_train = y_train_scaled - y_train_pred_ridge\n",
    "# Plot the histogram of the error terms\n",
    "fig = plt.figure()\n",
    "sns.distplot(error_train, bins = 20)\n",
    "# Plot heading \n",
    "fig.suptitle('Error Terms', fontsize = 20)  \n",
    "# X-label\n",
    "plt.xlabel('Errors', fontsize = 18)    "
   ]
  },
  {
   "cell_type": "code",
   "execution_count": 3382,
   "metadata": {},
   "outputs": [
    {
     "name": "stdout",
     "output_type": "stream",
     "text": [
      "r2 score = 0.499857840499755\n"
     ]
    }
   ],
   "source": [
    "#predict on the created model and finding the R Squared value for test data\n",
    "y_test_pred_ridge = ridge.predict(X_rfe_test_scaled)\n",
    "print(\"r2 score = \" + str(r2_score(y_test_scaled, y_test_pred_ridge)))"
   ]
  },
  {
   "cell_type": "code",
   "execution_count": 3383,
   "metadata": {
    "scrolled": true
   },
   "outputs": [
    {
     "data": {
      "text/plain": [
       "Text(0.5, 0, 'Errors')"
      ]
     },
     "execution_count": 3383,
     "metadata": {},
     "output_type": "execute_result"
    },
    {
     "data": {
      "image/png": "[encoded data removed]",
      "text/plain": [
       "<Figure size 432x288 with 1 Axes>"
      ]
     },
     "metadata": {
      "needs_background": "light"
     },
     "output_type": "display_data"
    }
   ],
   "source": [
    "#calculating the error on testing data\n",
    "error_test = y_test_scaled - y_test_pred_ridge\n",
    "# Plot the histogram of the error terms\n",
    "fig = plt.figure()\n",
    "sns.distplot(error_test, bins = 20)\n",
    "# Plot heading \n",
    "fig.suptitle('Error Terms', fontsize = 20)  \n",
    "# X-label\n",
    "plt.xlabel('Errors', fontsize = 18)    "
   ]
  },
  {
   "cell_type": "markdown",
   "metadata": {},
   "source": [
    "After removing more features by using RFE and then applying the regularization it is clear tha the error between testing and training is less and also the distribution of error terms is normal, centered arround zero"
   ]
  }
 ],
 "metadata": {
  "kernelspec": {
   "display_name": "Python 3",
   "language": "python",
   "name": "python3"
  },
  "language_info": {
   "codemirror_mode": {
    "name": "ipython",
    "version": 3
   },
   "file_extension": ".py",
   "mimetype": "text/x-python",
   "name": "python",
   "nbconvert_exporter": "python",
   "pygments_lexer": "ipython3",
   "version": "3.7.6"
  }
 },
 "nbformat": 4,
 "nbformat_minor": 4
}
